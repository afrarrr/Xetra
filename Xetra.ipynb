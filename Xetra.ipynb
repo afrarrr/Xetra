{
 "cells": [
  {
   "cell_type": "code",
   "execution_count": 69,
   "id": "362ab1c1",
   "metadata": {},
   "outputs": [],
   "source": [
    "import boto3\n",
    "import pandas as pd\n",
    "from io import StringIO"
   ]
  },
  {
   "cell_type": "code",
   "execution_count": 70,
   "id": "da1b13eb",
   "metadata": {},
   "outputs": [],
   "source": [
    "import findspark\n",
    "findspark.init()\n",
    "import pyspark\n",
    "from pyspark.sql import SparkSession\n",
    "import pyspark.sql.functions as F\n",
    "from pyspark.sql.functions import *"
   ]
  },
  {
   "cell_type": "code",
   "execution_count": 71,
   "id": "f089f182",
   "metadata": {},
   "outputs": [],
   "source": [
    "from pyspark.sql.types import *"
   ]
  },
  {
   "cell_type": "code",
   "execution_count": 72,
   "id": "2b37f24b",
   "metadata": {},
   "outputs": [],
   "source": [
    "s3 = boto3.resource('s3')\n",
    "bucket = s3.Bucket('deutsche-boerse-xetra-pds')"
   ]
  },
  {
   "cell_type": "code",
   "execution_count": 81,
   "id": "2337dfbc",
   "metadata": {},
   "outputs": [],
   "source": [
    "bucket_obj1 = bucket.objects.filter(Prefix='2021-03-15')\n",
    "bucket_obj2 = bucket.objects.filter(Prefix='2021-03-16')\n",
    "bucket_obj3 = bucket.objects.filter(Prefix='2021-03-17')\n",
    "objects = [obj for obj in bucket_obj1]+ [obj for obj in bucket_obj2]+ [obj for obj in bucket_obj3]"
   ]
  },
  {
   "cell_type": "code",
   "execution_count": 82,
   "id": "c847eea4",
   "metadata": {},
   "outputs": [],
   "source": [
    "csv_obj_init = bucket.Object(key=objects[0].key).get().get('Body').read().decode('utf-8')\n",
    "data = StringIO(csv_obj_init)\n",
    "df_init = pd.read_csv(data, delimiter=',')"
   ]
  },
  {
   "cell_type": "code",
   "execution_count": 83,
   "id": "f2ef584e",
   "metadata": {},
   "outputs": [
    {
     "data": {
      "text/plain": [
       "Index(['ISIN', 'Mnemonic', 'SecurityDesc', 'SecurityType', 'Currency',\n",
       "       'SecurityID', 'Date', 'Time', 'StartPrice', 'MaxPrice', 'MinPrice',\n",
       "       'EndPrice', 'TradedVolume', 'NumberOfTrades'],\n",
       "      dtype='object')"
      ]
     },
     "execution_count": 83,
     "metadata": {},
     "output_type": "execute_result"
    }
   ],
   "source": [
    "df_init.columns"
   ]
  },
  {
   "cell_type": "code",
   "execution_count": 84,
   "id": "f7cb021b",
   "metadata": {},
   "outputs": [],
   "source": [
    "df_all = pd.DataFrame(columns=df_init.columns)\n",
    "for obj in objects:\n",
    "    csv_obj = bucket.Object(key=obj.key).get().get('Body').read().decode('utf-8')\n",
    "    data = StringIO(csv_obj)\n",
    "    df = pd.read_csv(data, delimiter=',')\n",
    "    df_all = df_all.append(df, ignore_index=True)"
   ]
  },
  {
   "cell_type": "code",
   "execution_count": 85,
   "id": "15d23e03",
   "metadata": {},
   "outputs": [
    {
     "data": {
      "text/plain": [
       "(305861, 14)"
      ]
     },
     "execution_count": 85,
     "metadata": {},
     "output_type": "execute_result"
    }
   ],
   "source": [
    "df_all.shape"
   ]
  },
  {
   "cell_type": "code",
   "execution_count": 86,
   "id": "4dbbb37b",
   "metadata": {},
   "outputs": [],
   "source": [
    "df_all.dropna(inplace=True)"
   ]
  },
  {
   "cell_type": "code",
   "execution_count": 87,
   "id": "21e8bf7c",
   "metadata": {},
   "outputs": [],
   "source": [
    "## Extract columns for history table "
   ]
  },
  {
   "cell_type": "code",
   "execution_count": 88,
   "id": "903a3dc2",
   "metadata": {},
   "outputs": [],
   "source": [
    "columns1 = ['ISIN', 'Date', 'Currency','Time', 'StartPrice', 'MaxPrice', 'MinPrice', 'EndPrice', 'TradedVolume']\n",
    "history = df_all.loc[:, columns1]"
   ]
  },
  {
   "cell_type": "code",
   "execution_count": 89,
   "id": "b67da63d",
   "metadata": {},
   "outputs": [],
   "source": [
    "# Add new columns to the dateframe: closing price and opening price for each ISIN per day"
   ]
  },
  {
   "cell_type": "code",
   "execution_count": 90,
   "id": "0ee31166",
   "metadata": {},
   "outputs": [],
   "source": [
    "history['OpeningPrice'] = history.sort_values(by=['Time']).groupby(['ISIN', 'Date'])['StartPrice'].transform('first')"
   ]
  },
  {
   "cell_type": "code",
   "execution_count": 91,
   "id": "0a6a5374",
   "metadata": {},
   "outputs": [],
   "source": [
    "history['ClosingPrice'] = history.sort_values(by=['Time']).groupby(['ISIN', 'Date'])['StartPrice'].transform('last')"
   ]
  },
  {
   "cell_type": "code",
   "execution_count": 92,
   "id": "5eda62b4",
   "metadata": {},
   "outputs": [
    {
     "name": "stdout",
     "output_type": "stream",
     "text": [
      "root\n",
      " |-- ISIN: string (nullable = true)\n",
      " |-- Date: string (nullable = true)\n",
      " |-- Currency: string (nullable = true)\n",
      " |-- Time: string (nullable = true)\n",
      " |-- StartPrice: double (nullable = true)\n",
      " |-- MaxPrice: double (nullable = true)\n",
      " |-- MinPrice: double (nullable = true)\n",
      " |-- EndPrice: double (nullable = true)\n",
      " |-- TradedVolume: long (nullable = true)\n",
      " |-- OpeningPrice: double (nullable = true)\n",
      " |-- ClosingPrice: double (nullable = true)\n",
      "\n"
     ]
    }
   ],
   "source": [
    "spark = SparkSession.builder.master(\"local[*]\").appName(\"test\").getOrCreate()\n",
    "sparkDF=spark.createDataFrame(history) \n",
    "sparkDF.printSchema()"
   ]
  },
  {
   "cell_type": "code",
   "execution_count": 93,
   "id": "3ac94b86",
   "metadata": {},
   "outputs": [],
   "source": [
    "## cast date type from string to date"
   ]
  },
  {
   "cell_type": "code",
   "execution_count": 94,
   "id": "15f43d0c",
   "metadata": {},
   "outputs": [
    {
     "data": {
      "text/plain": [
       "DataFrame[ISIN: string, Date: date, Currency: string, Time: string, StartPrice: double, MaxPrice: double, MinPrice: double, EndPrice: double, TradedVolume: bigint, OpeningPrice: double, ClosingPrice: double]"
      ]
     },
     "execution_count": 94,
     "metadata": {},
     "output_type": "execute_result"
    }
   ],
   "source": [
    "sparkDF.withColumn(\"Date\",sparkDF.Date.cast(DateType()))"
   ]
  },
  {
   "cell_type": "code",
   "execution_count": 95,
   "id": "ac5453cb",
   "metadata": {},
   "outputs": [],
   "source": [
    "## Filter out transcations that are not using EUR and drop multiple columns for "
   ]
  },
  {
   "cell_type": "code",
   "execution_count": 96,
   "id": "8212857c",
   "metadata": {},
   "outputs": [],
   "source": [
    "historyDF =sparkDF.filter(sparkDF[\"Currency\"]==\"EUR\").drop(\"Currency\",\"Time\",\"StartPrice\",\"EndPrice\")"
   ]
  },
  {
   "cell_type": "code",
   "execution_count": 97,
   "id": "6d3a739e",
   "metadata": {},
   "outputs": [],
   "source": [
    "# Rename the columns"
   ]
  },
  {
   "cell_type": "code",
   "execution_count": 98,
   "id": "55e719c0",
   "metadata": {},
   "outputs": [],
   "source": [
    "historyDF = historyDF.withColumnRenamed(\"ISIN\",\"isin\")\\\n",
    "         .withColumnRenamed(\"Date\",\"date\")\\\n",
    "         .withColumnRenamed(\"MaxPrice\",\"max_price\")\\\n",
    "         .withColumnRenamed(\"MinPrice\",\"min_price\")\\\n",
    "         .withColumnRenamed(\"TradedVolume\",\"volume\")\\\n",
    "         .withColumnRenamed(\"OpeningPrice\",\"opening_price\")\\\n",
    "         .withColumnRenamed(\"ClosingPrice\",\"closing_price\")"
   ]
  },
  {
   "cell_type": "code",
   "execution_count": 99,
   "id": "8847d298",
   "metadata": {},
   "outputs": [
    {
     "name": "stdout",
     "output_type": "stream",
     "text": [
      "+------------+----------+---------+---------+------+-------------+-------------+\n",
      "|        isin|      date|max_price|min_price|volume|opening_price|closing_price|\n",
      "+------------+----------+---------+---------+------+-------------+-------------+\n",
      "|AT0000A0E9W5|2021-03-15|    22.12|    22.12|  1527|        22.12|        22.42|\n",
      "|DE000A0DJ6J9|2021-03-15|    53.85|     53.5|   508|        53.85|         55.3|\n",
      "|DE000A0D6554|2021-03-15|    22.24|    22.18|  5270|        22.24|        21.84|\n",
      "|DE000A0D9PT0|2021-03-15|    201.5|    200.6|  1744|        201.5|        203.0|\n",
      "|DE000A0HN5C6|2021-03-15|    39.06|    38.89| 28662|        38.95|        38.95|\n",
      "|DE000A0JL9W6|2021-03-15|     33.6|     33.3|  2866|         33.5|         31.6|\n",
      "|DE000A0LAUP1|2021-03-15|    11.38|    11.38|   743|        11.38|        11.38|\n",
      "|DE000A0LD2U1|2021-03-15|     14.3|    14.28|  1749|         14.3|        14.07|\n",
      "|DE000A0LD6E6|2021-03-15|     84.7|     84.4|  1673|         84.5|         84.0|\n",
      "|DE000A0S8488|2021-03-15|     21.5|     21.5|   264|         21.5|         21.4|\n",
      "|DE000A0WMPJ6|2021-03-15|     18.0|   17.925|  7763|         18.0|       18.875|\n",
      "|DE000A0Z2ZZ5|2021-03-15|    20.42|    20.35| 13341|        20.41|        20.23|\n",
      "|DE000A1DAHH0|2021-03-15|     70.2|     70.0|  3437|         70.0|        69.42|\n",
      "|DE000A1EWWW0|2021-03-15|    298.8|    297.8|  8206|        298.8|        292.8|\n",
      "|DE000A1H8BV3|2021-03-15|    43.26|    43.26|    34|        43.26|         42.0|\n",
      "|DE000A1J5RX9|2021-03-15|    2.392|    2.386| 52786|        2.392|        2.372|\n",
      "|DE000A1ML7J1|2021-03-15|    54.58|     54.4| 24256|        54.58|        54.34|\n",
      "|DE000A1MMCC8|2021-03-15|     37.1|     37.1|    20|         37.1|         36.1|\n",
      "|DE000A1PHFF7|2021-03-15|     33.8|     33.5| 17157|         33.5|        33.79|\n",
      "|DE000A1TNUT7|2021-03-15|    35.75|    35.75|   147|        35.75|         36.2|\n",
      "+------------+----------+---------+---------+------+-------------+-------------+\n",
      "only showing top 20 rows\n",
      "\n"
     ]
    }
   ],
   "source": [
    "historyDF.show()"
   ]
  },
  {
   "cell_type": "code",
   "execution_count": 100,
   "id": "75d2d639",
   "metadata": {},
   "outputs": [],
   "source": [
    "#save to local file system"
   ]
  },
  {
   "cell_type": "code",
   "execution_count": 101,
   "id": "3a1c78f5",
   "metadata": {},
   "outputs": [],
   "source": [
    "historyDF.toPandas().to_csv(\"History.csv\",encoding='utf-8', index=False)"
   ]
  },
  {
   "cell_type": "code",
   "execution_count": 102,
   "id": "3d11473e",
   "metadata": {},
   "outputs": [],
   "source": [
    "## Extract columns for security table "
   ]
  },
  {
   "cell_type": "code",
   "execution_count": 103,
   "id": "6709bcb8",
   "metadata": {},
   "outputs": [],
   "source": [
    "sparkDF=spark.createDataFrame(df_all)"
   ]
  },
  {
   "cell_type": "code",
   "execution_count": 104,
   "id": "38360239",
   "metadata": {},
   "outputs": [
    {
     "data": {
      "text/plain": [
       "['ISIN',\n",
       " 'Mnemonic',\n",
       " 'SecurityDesc',\n",
       " 'SecurityType',\n",
       " 'Currency',\n",
       " 'SecurityID',\n",
       " 'Date',\n",
       " 'Time',\n",
       " 'StartPrice',\n",
       " 'MaxPrice',\n",
       " 'MinPrice',\n",
       " 'EndPrice',\n",
       " 'TradedVolume',\n",
       " 'NumberOfTrades']"
      ]
     },
     "execution_count": 104,
     "metadata": {},
     "output_type": "execute_result"
    }
   ],
   "source": [
    "sparkDF.columns"
   ]
  },
  {
   "cell_type": "code",
   "execution_count": 105,
   "id": "81cfe928",
   "metadata": {},
   "outputs": [],
   "source": [
    "security = sparkDF.select('ISIN','SecurityDesc','SecurityType','SecurityID')"
   ]
  },
  {
   "cell_type": "code",
   "execution_count": 106,
   "id": "60093d81",
   "metadata": {},
   "outputs": [],
   "source": [
    "security = security.withColumnRenamed('ISIN','isin')\\\n",
    "        .withColumnRenamed('SecurityDesc','security_desc')\\\n",
    "        .withColumnRenamed('SecurityType','security_type')\\\n",
    "        .withColumnRenamed('SecurityID','security_id')"
   ]
  },
  {
   "cell_type": "code",
   "execution_count": 107,
   "id": "2fcde6c1",
   "metadata": {},
   "outputs": [
    {
     "name": "stdout",
     "output_type": "stream",
     "text": [
      "+------------+--------------------+-------------+-----------+\n",
      "|        isin|       security_desc|security_type|security_id|\n",
      "+------------+--------------------+-------------+-----------+\n",
      "|AT0000A0E9W5|S+T AG (Z.REG.MK....| Common stock|    2504159|\n",
      "|DE000A0DJ6J9|SMA SOLAR TECHNOL.AG| Common stock|    2504287|\n",
      "|DE000A0D6554|      NORDEX SE O.N.| Common stock|    2504290|\n",
      "|DE000A0D9PT0|MTU AERO ENGINES ...| Common stock|    2504297|\n",
      "|DE000A0HN5C6|DEUTSCHE WOHNEN S...| Common stock|    2504314|\n",
      "|DE000A0JL9W6|VERBIO VER.BIOENE...| Common stock|    2504343|\n",
      "|DE000A0LAUP1|     CROPENERGIES AG| Common stock|    2504376|\n",
      "|DE000A0LD2U1|ALSTRIA OFFICE RE...| Common stock|    2504379|\n",
      "|DE000A0LD6E6|     GERRESHEIMER AG| Common stock|    2504380|\n",
      "|DE000A0S8488|HAMBURG.HAFEN LOG...| Common stock|    2504409|\n",
      "|DE000A0WMPJ6|  AIXTRON SE NA O.N.| Common stock|    2504428|\n",
      "|DE000A0Z2ZZ5|  FREENET AG NA O.N.| Common stock|    2504438|\n",
      "|DE000A1DAHH0| BRENNTAG SE NA O.N.| Common stock|    2504453|\n",
      "|DE000A1EWWW0|   ADIDAS AG NA O.N.| Common stock|    2504471|\n",
      "|DE000A1H8BV3|NORMA GROUP SE NA...| Common stock|    2504474|\n",
      "|DE000A1J5RX9|TELEFONICA DTLD H...| Common stock|    2504492|\n",
      "|DE000A1ML7J1|  VONOVIA SE NA O.N.| Common stock|    2504501|\n",
      "|DE000A1MMCC8|     MEDIOS AG  O.N.| Common stock|    2504502|\n",
      "|DE000A1PHFF7|HUGO BOSS AG NA O.N.| Common stock|    2504512|\n",
      "|DE000A1TNUT7|DT.BETEILIG.AG   ...| Common stock|    2504519|\n",
      "+------------+--------------------+-------------+-----------+\n",
      "only showing top 20 rows\n",
      "\n"
     ]
    }
   ],
   "source": [
    "security.show()"
   ]
  },
  {
   "cell_type": "code",
   "execution_count": 108,
   "id": "0286d088",
   "metadata": {},
   "outputs": [],
   "source": [
    "security.toPandas().to_csv(\"Security.csv\",encoding='utf-8', index=False)"
   ]
  },
  {
   "cell_type": "code",
   "execution_count": 109,
   "id": "a7547355",
   "metadata": {},
   "outputs": [],
   "source": [
    "# Want to know the percentage changes of every ISIN for each day"
   ]
  },
  {
   "cell_type": "code",
   "execution_count": 110,
   "id": "050223a0",
   "metadata": {},
   "outputs": [],
   "source": [
    "historyDF.createOrReplaceTempView(\"history_table\")"
   ]
  },
  {
   "cell_type": "code",
   "execution_count": 111,
   "id": "7e65be43",
   "metadata": {},
   "outputs": [],
   "source": [
    "query_1='''\n",
    "select isin, date, round((closing_price-opening_price),2) as percentage_change\n",
    "from history_table \n",
    "        '''"
   ]
  },
  {
   "cell_type": "code",
   "execution_count": 112,
   "id": "930e0d42",
   "metadata": {},
   "outputs": [],
   "source": [
    "history_changes=spark.sql(query_1)"
   ]
  },
  {
   "cell_type": "code",
   "execution_count": 113,
   "id": "548ba1c9",
   "metadata": {},
   "outputs": [
    {
     "name": "stdout",
     "output_type": "stream",
     "text": [
      "+------------+----------+-----------------+\n",
      "|        isin|      date|percentage_change|\n",
      "+------------+----------+-----------------+\n",
      "|AT0000A0E9W5|2021-03-15|              0.3|\n",
      "|DE000A0DJ6J9|2021-03-15|             1.45|\n",
      "|DE000A0D6554|2021-03-15|             -0.4|\n",
      "|DE000A0D9PT0|2021-03-15|              1.5|\n",
      "|DE000A0HN5C6|2021-03-15|              0.0|\n",
      "|DE000A0JL9W6|2021-03-15|             -1.9|\n",
      "|DE000A0LAUP1|2021-03-15|              0.0|\n",
      "|DE000A0LD2U1|2021-03-15|            -0.23|\n",
      "|DE000A0LD6E6|2021-03-15|             -0.5|\n",
      "|DE000A0S8488|2021-03-15|             -0.1|\n",
      "|DE000A0WMPJ6|2021-03-15|             0.88|\n",
      "|DE000A0Z2ZZ5|2021-03-15|            -0.18|\n",
      "|DE000A1DAHH0|2021-03-15|            -0.58|\n",
      "|DE000A1EWWW0|2021-03-15|             -6.0|\n",
      "|DE000A1H8BV3|2021-03-15|            -1.26|\n",
      "|DE000A1J5RX9|2021-03-15|            -0.02|\n",
      "|DE000A1ML7J1|2021-03-15|            -0.24|\n",
      "|DE000A1MMCC8|2021-03-15|             -1.0|\n",
      "|DE000A1PHFF7|2021-03-15|             0.29|\n",
      "|DE000A1TNUT7|2021-03-15|             0.45|\n",
      "+------------+----------+-----------------+\n",
      "only showing top 20 rows\n",
      "\n"
     ]
    }
   ],
   "source": [
    "history_changes.show()"
   ]
  },
  {
   "cell_type": "code",
   "execution_count": 114,
   "id": "0df6494c",
   "metadata": {},
   "outputs": [],
   "source": [
    "history_changes.toPandas().to_csv(\"DailyChange.csv\",encoding='utf-8', index=False)"
   ]
  }
 ],
 "metadata": {
  "kernelspec": {
   "display_name": "Python 3 (ipykernel)",
   "language": "python",
   "name": "python3"
  },
  "language_info": {
   "codemirror_mode": {
    "name": "ipython",
    "version": 3
   },
   "file_extension": ".py",
   "mimetype": "text/x-python",
   "name": "python",
   "nbconvert_exporter": "python",
   "pygments_lexer": "ipython3",
   "version": "3.9.7"
  }
 },
 "nbformat": 4,
 "nbformat_minor": 5
}
